{
  "nbformat": 4,
  "nbformat_minor": 0,
  "metadata": {
    "colab": {
      "name": "Copy of Untitled",
      "provenance": [],
      "collapsed_sections": []
    },
    "kernelspec": {
      "name": "python3",
      "display_name": "Python 3"
    },
    "accelerator": "GPU"
  },
  "cells": [
    {
      "cell_type": "code",
      "metadata": {
        "id": "bVPeGfVUwbQM",
        "colab_type": "code",
        "colab": {
          "base_uri": "https://localhost:8080/",
          "height": 100
        },
        "outputId": "611b3ad9-b890-48fb-f834-f458b8631e65"
      },
      "source": [
        "!pip install tensorflow-gpu==2.0.0-rc1"
      ],
      "execution_count": null,
      "outputs": [
        {
          "output_type": "stream",
          "text": [
            "Collecting tensorflow-gpu==2.0.0-rc1\n",
            "\u001b[?25l  Downloading https://files.pythonhosted.org/packages/73/cf/2fc69ba3e59edc8333e2676fa71b40197718dea7dc1282c79955cf6b2acb/tensorflow_gpu-2.0.0rc1-cp36-cp36m-manylinux2010_x86_64.whl (380.5MB)\n",
            "\u001b[K     |████████████                    | 142.5MB 1.8MB/s eta 0:02:15"
          ],
          "name": "stdout"
        }
      ]
    },
    {
      "cell_type": "code",
      "metadata": {
        "id": "ziQshBSOwvhI",
        "colab_type": "code",
        "colab": {
          "base_uri": "https://localhost:8080/",
          "height": 820
        },
        "outputId": "43bf42ba-0b80-45f3-841b-da67d91f4781"
      },
      "source": [
        "!pip install --upgrade tensorflow-gpu\n"
      ],
      "execution_count": 30,
      "outputs": [
        {
          "output_type": "stream",
          "text": [
            "Collecting tensorflow-gpu\n",
            "\u001b[?25l  Downloading https://files.pythonhosted.org/packages/31/bf/c28971266ca854a64f4b26f07c4112ddd61f30b4d1f18108b954a746f8ea/tensorflow_gpu-2.2.0-cp36-cp36m-manylinux2010_x86_64.whl (516.2MB)\n",
            "\u001b[K     |████████████████████████████████| 516.2MB 31kB/s \n",
            "\u001b[?25hRequirement already satisfied, skipping upgrade: protobuf>=3.8.0 in /usr/local/lib/python3.6/dist-packages (from tensorflow-gpu) (3.10.0)\n",
            "Requirement already satisfied, skipping upgrade: astunparse==1.6.3 in /usr/local/lib/python3.6/dist-packages (from tensorflow-gpu) (1.6.3)\n",
            "Requirement already satisfied, skipping upgrade: tensorboard<2.3.0,>=2.2.0 in /usr/local/lib/python3.6/dist-packages (from tensorflow-gpu) (2.2.2)\n",
            "Requirement already satisfied, skipping upgrade: wheel>=0.26; python_version >= \"3\" in /usr/local/lib/python3.6/dist-packages (from tensorflow-gpu) (0.34.2)\n",
            "Requirement already satisfied, skipping upgrade: scipy==1.4.1; python_version >= \"3\" in /usr/local/lib/python3.6/dist-packages (from tensorflow-gpu) (1.4.1)\n",
            "Requirement already satisfied, skipping upgrade: gast==0.3.3 in /usr/local/lib/python3.6/dist-packages (from tensorflow-gpu) (0.3.3)\n",
            "Requirement already satisfied, skipping upgrade: google-pasta>=0.1.8 in /usr/local/lib/python3.6/dist-packages (from tensorflow-gpu) (0.2.0)\n",
            "Requirement already satisfied, skipping upgrade: tensorflow-estimator<2.3.0,>=2.2.0 in /usr/local/lib/python3.6/dist-packages (from tensorflow-gpu) (2.2.0)\n",
            "Requirement already satisfied, skipping upgrade: wrapt>=1.11.1 in /usr/local/lib/python3.6/dist-packages (from tensorflow-gpu) (1.12.1)\n",
            "Requirement already satisfied, skipping upgrade: grpcio>=1.8.6 in /usr/local/lib/python3.6/dist-packages (from tensorflow-gpu) (1.29.0)\n",
            "Requirement already satisfied, skipping upgrade: h5py<2.11.0,>=2.10.0 in /usr/local/lib/python3.6/dist-packages (from tensorflow-gpu) (2.10.0)\n",
            "Requirement already satisfied, skipping upgrade: numpy<2.0,>=1.16.0 in /usr/local/lib/python3.6/dist-packages (from tensorflow-gpu) (1.18.5)\n",
            "Requirement already satisfied, skipping upgrade: opt-einsum>=2.3.2 in /usr/local/lib/python3.6/dist-packages (from tensorflow-gpu) (3.2.1)\n",
            "Requirement already satisfied, skipping upgrade: keras-preprocessing>=1.1.0 in /usr/local/lib/python3.6/dist-packages (from tensorflow-gpu) (1.1.2)\n",
            "Requirement already satisfied, skipping upgrade: absl-py>=0.7.0 in /usr/local/lib/python3.6/dist-packages (from tensorflow-gpu) (0.9.0)\n",
            "Requirement already satisfied, skipping upgrade: six>=1.12.0 in /usr/local/lib/python3.6/dist-packages (from tensorflow-gpu) (1.12.0)\n",
            "Requirement already satisfied, skipping upgrade: termcolor>=1.1.0 in /usr/local/lib/python3.6/dist-packages (from tensorflow-gpu) (1.1.0)\n",
            "Requirement already satisfied, skipping upgrade: setuptools in /usr/local/lib/python3.6/dist-packages (from protobuf>=3.8.0->tensorflow-gpu) (47.3.1)\n",
            "Requirement already satisfied, skipping upgrade: tensorboard-plugin-wit>=1.6.0 in /usr/local/lib/python3.6/dist-packages (from tensorboard<2.3.0,>=2.2.0->tensorflow-gpu) (1.6.0.post3)\n",
            "Requirement already satisfied, skipping upgrade: google-auth-oauthlib<0.5,>=0.4.1 in /usr/local/lib/python3.6/dist-packages (from tensorboard<2.3.0,>=2.2.0->tensorflow-gpu) (0.4.1)\n",
            "Requirement already satisfied, skipping upgrade: werkzeug>=0.11.15 in /usr/local/lib/python3.6/dist-packages (from tensorboard<2.3.0,>=2.2.0->tensorflow-gpu) (1.0.1)\n",
            "Requirement already satisfied, skipping upgrade: requests<3,>=2.21.0 in /usr/local/lib/python3.6/dist-packages (from tensorboard<2.3.0,>=2.2.0->tensorflow-gpu) (2.23.0)\n",
            "Requirement already satisfied, skipping upgrade: google-auth<2,>=1.6.3 in /usr/local/lib/python3.6/dist-packages (from tensorboard<2.3.0,>=2.2.0->tensorflow-gpu) (1.17.2)\n",
            "Requirement already satisfied, skipping upgrade: markdown>=2.6.8 in /usr/local/lib/python3.6/dist-packages (from tensorboard<2.3.0,>=2.2.0->tensorflow-gpu) (3.2.2)\n",
            "Requirement already satisfied, skipping upgrade: requests-oauthlib>=0.7.0 in /usr/local/lib/python3.6/dist-packages (from google-auth-oauthlib<0.5,>=0.4.1->tensorboard<2.3.0,>=2.2.0->tensorflow-gpu) (1.3.0)\n",
            "Requirement already satisfied, skipping upgrade: chardet<4,>=3.0.2 in /usr/local/lib/python3.6/dist-packages (from requests<3,>=2.21.0->tensorboard<2.3.0,>=2.2.0->tensorflow-gpu) (3.0.4)\n",
            "Requirement already satisfied, skipping upgrade: idna<3,>=2.5 in /usr/local/lib/python3.6/dist-packages (from requests<3,>=2.21.0->tensorboard<2.3.0,>=2.2.0->tensorflow-gpu) (2.9)\n",
            "Requirement already satisfied, skipping upgrade: urllib3!=1.25.0,!=1.25.1,<1.26,>=1.21.1 in /usr/local/lib/python3.6/dist-packages (from requests<3,>=2.21.0->tensorboard<2.3.0,>=2.2.0->tensorflow-gpu) (1.24.3)\n",
            "Requirement already satisfied, skipping upgrade: certifi>=2017.4.17 in /usr/local/lib/python3.6/dist-packages (from requests<3,>=2.21.0->tensorboard<2.3.0,>=2.2.0->tensorflow-gpu) (2020.4.5.2)\n",
            "Requirement already satisfied, skipping upgrade: cachetools<5.0,>=2.0.0 in /usr/local/lib/python3.6/dist-packages (from google-auth<2,>=1.6.3->tensorboard<2.3.0,>=2.2.0->tensorflow-gpu) (4.1.0)\n",
            "Requirement already satisfied, skipping upgrade: rsa<5,>=3.1.4; python_version >= \"3\" in /usr/local/lib/python3.6/dist-packages (from google-auth<2,>=1.6.3->tensorboard<2.3.0,>=2.2.0->tensorflow-gpu) (4.6)\n",
            "Requirement already satisfied, skipping upgrade: pyasn1-modules>=0.2.1 in /usr/local/lib/python3.6/dist-packages (from google-auth<2,>=1.6.3->tensorboard<2.3.0,>=2.2.0->tensorflow-gpu) (0.2.8)\n",
            "Requirement already satisfied, skipping upgrade: importlib-metadata; python_version < \"3.8\" in /usr/local/lib/python3.6/dist-packages (from markdown>=2.6.8->tensorboard<2.3.0,>=2.2.0->tensorflow-gpu) (1.6.1)\n",
            "Requirement already satisfied, skipping upgrade: oauthlib>=3.0.0 in /usr/local/lib/python3.6/dist-packages (from requests-oauthlib>=0.7.0->google-auth-oauthlib<0.5,>=0.4.1->tensorboard<2.3.0,>=2.2.0->tensorflow-gpu) (3.1.0)\n",
            "Requirement already satisfied, skipping upgrade: pyasn1>=0.1.3 in /usr/local/lib/python3.6/dist-packages (from rsa<5,>=3.1.4; python_version >= \"3\"->google-auth<2,>=1.6.3->tensorboard<2.3.0,>=2.2.0->tensorflow-gpu) (0.4.8)\n",
            "Requirement already satisfied, skipping upgrade: zipp>=0.5 in /usr/local/lib/python3.6/dist-packages (from importlib-metadata; python_version < \"3.8\"->markdown>=2.6.8->tensorboard<2.3.0,>=2.2.0->tensorflow-gpu) (3.1.0)\n",
            "Installing collected packages: tensorflow-gpu\n",
            "Successfully installed tensorflow-gpu-2.2.0\n"
          ],
          "name": "stdout"
        },
        {
          "output_type": "display_data",
          "data": {
            "application/vnd.colab-display-data+json": {
              "pip_warning": {
                "packages": [
                  "tensorflow"
                ]
              }
            }
          },
          "metadata": {
            "tags": []
          }
        }
      ]
    },
    {
      "cell_type": "code",
      "metadata": {
        "id": "X0KR6yckwcvY",
        "colab_type": "code",
        "colab": {
          "base_uri": "https://localhost:8080/",
          "height": 34
        },
        "outputId": "646a9007-56b8-4009-e45e-eea7fde834f8"
      },
      "source": [
        "from __future__ import absolute_import, division, print_function, unicode_literals\n",
        "import tensorflow as tf\n",
        "tf.__version__"
      ],
      "execution_count": 1,
      "outputs": [
        {
          "output_type": "execute_result",
          "data": {
            "text/plain": [
              "'2.2.0'"
            ]
          },
          "metadata": {
            "tags": []
          },
          "execution_count": 1
        }
      ]
    },
    {
      "cell_type": "code",
      "metadata": {
        "id": "dkMkvDjavUtf",
        "colab_type": "code",
        "colab": {}
      },
      "source": [
        "import glob\n",
        "import imageio\n",
        "import matplotlib.pyplot as plt\n",
        "import numpy as np\n",
        "import datetime\n",
        "import os\n",
        "import PIL\n",
        "from tensorflow.keras import layers\n",
        "import time\n",
        "from google.colab import drive\n",
        "\n",
        "from IPython import display\n"
      ],
      "execution_count": 2,
      "outputs": []
    },
    {
      "cell_type": "code",
      "metadata": {
        "id": "6x55IMQP5ZGY",
        "colab_type": "code",
        "colab": {
          "base_uri": "https://localhost:8080/",
          "height": 122
        },
        "outputId": "6ce1a3bc-058c-4a48-f930-47fe897dac1d"
      },
      "source": [
        "drive.mount('/content/drive/')"
      ],
      "execution_count": 3,
      "outputs": [
        {
          "output_type": "stream",
          "text": [
            "Go to this URL in a browser: https://accounts.google.com/o/oauth2/auth?client_id=947318989803-6bn6qk8qdgf4n4g3pfee6491hc0brc4i.apps.googleusercontent.com&redirect_uri=urn%3aietf%3awg%3aoauth%3a2.0%3aoob&response_type=code&scope=email%20https%3a%2f%2fwww.googleapis.com%2fauth%2fdocs.test%20https%3a%2f%2fwww.googleapis.com%2fauth%2fdrive%20https%3a%2f%2fwww.googleapis.com%2fauth%2fdrive.photos.readonly%20https%3a%2f%2fwww.googleapis.com%2fauth%2fpeopleapi.readonly\n",
            "\n",
            "Enter your authorization code:\n",
            "··········\n",
            "Mounted at /content/drive/\n"
          ],
          "name": "stdout"
        }
      ]
    },
    {
      "cell_type": "code",
      "metadata": {
        "id": "-CWTS2jTyLqY",
        "colab_type": "code",
        "colab": {
          "base_uri": "https://localhost:8080/",
          "height": 34
        },
        "outputId": "893b7dd1-bca3-41dc-a67c-a064fd9ef0a6"
      },
      "source": [
        "f = np.load('/content/drive/My Drive/Colab Notebooks/MMISEL_GB_train.npy')\n",
        "print(f.shape)\n",
        "train_images = np.array([])"
      ],
      "execution_count": 4,
      "outputs": [
        {
          "output_type": "stream",
          "text": [
            "(5000, 28, 28)\n"
          ],
          "name": "stdout"
        }
      ]
    },
    {
      "cell_type": "code",
      "metadata": {
        "id": "PIfwx3LR3syF",
        "colab_type": "code",
        "colab": {
          "base_uri": "https://localhost:8080/",
          "height": 34
        },
        "outputId": "d64024f6-1fc4-4d06-ccee-cf18a349f1f2"
      },
      "source": [
        "for i in range(f.shape[0]):\n",
        "    dist = f[i,:,:]\n",
        "    dist = dist.flatten()\n",
        "    if train_images.size == 0:\n",
        "      train_images = dist\n",
        "    else:\n",
        "      train_images = np.vstack((train_images,dist))\n",
        "print(train_images.shape)"
      ],
      "execution_count": 5,
      "outputs": [
        {
          "output_type": "stream",
          "text": [
            "(5000, 784)\n"
          ],
          "name": "stdout"
        }
      ]
    },
    {
      "cell_type": "code",
      "metadata": {
        "id": "nLp1VnrdvW7w",
        "colab_type": "code",
        "colab": {
          "base_uri": "https://localhost:8080/",
          "height": 51
        },
        "outputId": "23d1983e-ac29-437e-a7b1-7dfc5cb93c1e"
      },
      "source": [
        "train_images = train_images.reshape(train_images.shape[0], 784, 1).astype('float32')\n",
        "print(np.amax(train_images))\n",
        "train_images = (train_images - 127.5) / 127.5 # 이미지를 [-1, 1]로 정규화합니다.\n",
        "print(np.amax(train_images))\n",
        "BUFFER_SIZE = len(train_images)\n",
        "BATCH_SIZE = 500\n",
        "\n",
        "# 데이터 배치를 만들고 섞습니다.\n",
        "train_dataset = tf.data.Dataset.from_tensor_slices(train_images).shuffle(BUFFER_SIZE).batch(BATCH_SIZE)\n",
        "\n",
        "EPOCHS = 30\n",
        "noise_dim = 100\n"
      ],
      "execution_count": 6,
      "outputs": [
        {
          "output_type": "stream",
          "text": [
            "254.94388\n",
            "0.9995598\n"
          ],
          "name": "stdout"
        }
      ]
    },
    {
      "cell_type": "code",
      "metadata": {
        "id": "2pW1_L-lvaYu",
        "colab_type": "code",
        "colab": {}
      },
      "source": [
        "def make_generator_model():\n",
        "    model = tf.keras.Sequential()\n",
        "    model.add(layers.Dense(7*7*256, use_bias=False, input_shape=(100,)))\n",
        "    model.add(layers.BatchNormalization())\n",
        "    model.add(layers.LeakyReLU())\n",
        "\n",
        "    model.add(layers.Reshape((7, 7, 256)))\n",
        "    assert model.output_shape == (None, 7, 7, 256) # 주목: 배치사이즈로 None이 주어집니다.\n",
        "\n",
        "    model.add(layers.Conv2DTranspose(128, (5, 5), strides=(1, 1), padding='same', use_bias=False))\n",
        "    assert model.output_shape == (None, 7, 7, 128)\n",
        "    model.add(layers.BatchNormalization())\n",
        "    model.add(layers.LeakyReLU())\n",
        "\n",
        "    model.add(layers.Conv2DTranspose(64, (5, 5), strides=(2, 2), padding='same', use_bias=False))\n",
        "    assert model.output_shape == (None, 14, 14, 64)\n",
        "    model.add(layers.BatchNormalization())\n",
        "    model.add(layers.LeakyReLU())\n",
        "\n",
        "    model.add(layers.Conv2DTranspose(1, (5, 5), strides=(2, 2), padding='same', use_bias=False, activation='tanh'))\n",
        "    assert model.output_shape == (None, 28, 28, 1)\n",
        "\n",
        "    return model"
      ],
      "execution_count": 7,
      "outputs": []
    },
    {
      "cell_type": "code",
      "metadata": {
        "id": "WZzv1UkeyxfS",
        "colab_type": "code",
        "colab": {}
      },
      "source": [
        "def make_1d_generator_model():\n",
        "    model = tf.keras.Sequential()\n",
        "    model.add(layers.Dense(64*784, use_bias=False, input_dim=100))\n",
        "    model.add(layers.BatchNormalization())\n",
        "    model.add(layers.LeakyReLU())\n",
        "\n",
        "    model.add(layers.Reshape((784, 64)))\n",
        "    assert model.output_shape == (None, 784, 64) # 주목: 배치사이즈로 None이 주어집니다.\n",
        "\n",
        "    model.add(layers.Conv1D(32, 5, padding = 'same', use_bias = False))\n",
        "    model.add(layers.BatchNormalization())\n",
        "    model.add(layers.LeakyReLU())\n",
        "\n",
        "    model.add(layers.Conv1D(16, 5, strides = 1, padding = 'same', use_bias = False))\n",
        "    model.add(layers.BatchNormalization())\n",
        "    model.add(layers.LeakyReLU())\n",
        "\n",
        "    model.add(layers.Conv1D(1, 5, strides = 1, padding = 'same', use_bias = False, activation='tanh'))\n",
        "    assert model.output_shape == (None, 784, 1)\n",
        "\n",
        "    return model\n"
      ],
      "execution_count": 8,
      "outputs": []
    },
    {
      "cell_type": "code",
      "metadata": {
        "id": "uiSQkI0vveCz",
        "colab_type": "code",
        "colab": {}
      },
      "source": [
        "def make_discriminator_model():\n",
        "    model = tf.keras.Sequential()\n",
        "    model.add(layers.Conv2D(64, (5, 5), strides=(2, 2), padding='same',\n",
        "                                     input_shape=[28, 28, 1]))\n",
        "    model.add(layers.LeakyReLU())\n",
        "    model.add(layers.Dropout(0.3))\n",
        "\n",
        "    model.add(layers.Conv2D(128, (5, 5), strides=(2, 2), padding='same'))\n",
        "    model.add(layers.LeakyReLU())\n",
        "    model.add(layers.Dropout(0.3))\n",
        "\n",
        "    model.add(layers.Flatten())\n",
        "    model.add(layers.Dense(1))\n",
        "\n",
        "    return model\n"
      ],
      "execution_count": 9,
      "outputs": []
    },
    {
      "cell_type": "code",
      "metadata": {
        "id": "xsks_GPhc4S7",
        "colab_type": "code",
        "colab": {}
      },
      "source": [
        "def make_1d_discriminator_model():\n",
        "    model = tf.keras.Sequential()\n",
        "    model.add(layers.Conv1D(64, 5, strides = 2, padding = 'same', input_shape = [784,1]))\n",
        "    model.add(layers.LeakyReLU())\n",
        "    model.add(layers.Dropout(0.3))\n",
        "\n",
        "    model.add(layers.Conv1D(128, 5, strides = 2, padding = 'same'))\n",
        "    model.add(layers.LeakyReLU())\n",
        "    model.add(layers.Dropout(0.3))\n",
        "\n",
        "    model.add(layers.Flatten())\n",
        "    model.add(layers.Dense(1))\n",
        "\n",
        "    return model"
      ],
      "execution_count": 10,
      "outputs": []
    },
    {
      "cell_type": "code",
      "metadata": {
        "id": "qJvVKkoHvekg",
        "colab_type": "code",
        "colab": {}
      },
      "source": [
        "def discriminator_loss(real_output, fake_output):\n",
        "    real_loss = cross_entropy(tf.ones_like(real_output), real_output)\n",
        "    fake_loss = cross_entropy(tf.zeros_like(fake_output), fake_output)\n",
        "    total_loss = real_loss + fake_loss\n",
        "    return total_loss\n",
        "\n",
        "def generator_loss(fake_output):\n",
        "    loss = cross_entropy(tf.ones_like(fake_output), fake_output)\n",
        "    return loss"
      ],
      "execution_count": 11,
      "outputs": []
    },
    {
      "cell_type": "code",
      "metadata": {
        "id": "czbr1BvLvjTL",
        "colab_type": "code",
        "colab": {
          "base_uri": "https://localhost:8080/",
          "height": 935
        },
        "outputId": "bada423e-4ef5-4370-8237-a9162f55d12d"
      },
      "source": [
        "cross_entropy = tf.keras.losses.BinaryCrossentropy(from_logits=True)\n",
        "\n",
        "generator_optimizer = tf.keras.optimizers.Adam(1e-4)\n",
        "discriminator_optimizer = tf.keras.optimizers.Adam(1e-4)\n",
        "\n",
        "generator = make_generator_model()\n",
        "discriminator = make_discriminator_model()\n",
        "\n",
        "generator_1d = make_1d_generator_model()\n",
        "discriminator_1d = make_1d_discriminator_model()\n",
        "generator_1d.summary()\n",
        "discriminator_1d.summary()"
      ],
      "execution_count": 12,
      "outputs": [
        {
          "output_type": "stream",
          "text": [
            "Model: \"sequential_2\"\n",
            "_________________________________________________________________\n",
            "Layer (type)                 Output Shape              Param #   \n",
            "=================================================================\n",
            "dense_2 (Dense)              (None, 50176)             5017600   \n",
            "_________________________________________________________________\n",
            "batch_normalization_3 (Batch (None, 50176)             200704    \n",
            "_________________________________________________________________\n",
            "leaky_re_lu_5 (LeakyReLU)    (None, 50176)             0         \n",
            "_________________________________________________________________\n",
            "reshape_1 (Reshape)          (None, 784, 64)           0         \n",
            "_________________________________________________________________\n",
            "conv1d (Conv1D)              (None, 784, 32)           10240     \n",
            "_________________________________________________________________\n",
            "batch_normalization_4 (Batch (None, 784, 32)           128       \n",
            "_________________________________________________________________\n",
            "leaky_re_lu_6 (LeakyReLU)    (None, 784, 32)           0         \n",
            "_________________________________________________________________\n",
            "conv1d_1 (Conv1D)            (None, 784, 16)           2560      \n",
            "_________________________________________________________________\n",
            "batch_normalization_5 (Batch (None, 784, 16)           64        \n",
            "_________________________________________________________________\n",
            "leaky_re_lu_7 (LeakyReLU)    (None, 784, 16)           0         \n",
            "_________________________________________________________________\n",
            "conv1d_2 (Conv1D)            (None, 784, 1)            80        \n",
            "=================================================================\n",
            "Total params: 5,231,376\n",
            "Trainable params: 5,130,928\n",
            "Non-trainable params: 100,448\n",
            "_________________________________________________________________\n",
            "Model: \"sequential_3\"\n",
            "_________________________________________________________________\n",
            "Layer (type)                 Output Shape              Param #   \n",
            "=================================================================\n",
            "conv1d_3 (Conv1D)            (None, 392, 64)           384       \n",
            "_________________________________________________________________\n",
            "leaky_re_lu_8 (LeakyReLU)    (None, 392, 64)           0         \n",
            "_________________________________________________________________\n",
            "dropout_2 (Dropout)          (None, 392, 64)           0         \n",
            "_________________________________________________________________\n",
            "conv1d_4 (Conv1D)            (None, 196, 128)          41088     \n",
            "_________________________________________________________________\n",
            "leaky_re_lu_9 (LeakyReLU)    (None, 196, 128)          0         \n",
            "_________________________________________________________________\n",
            "dropout_3 (Dropout)          (None, 196, 128)          0         \n",
            "_________________________________________________________________\n",
            "flatten_1 (Flatten)          (None, 25088)             0         \n",
            "_________________________________________________________________\n",
            "dense_3 (Dense)              (None, 1)                 25089     \n",
            "=================================================================\n",
            "Total params: 66,561\n",
            "Trainable params: 66,561\n",
            "Non-trainable params: 0\n",
            "_________________________________________________________________\n"
          ],
          "name": "stdout"
        }
      ]
    },
    {
      "cell_type": "code",
      "metadata": {
        "id": "_52gW7PeEI4Z",
        "colab_type": "code",
        "colab": {}
      },
      "source": [
        "checkpoint_dir = '/content/drive/My Drive/Colab Notebooks/MMISEL_GB_ckpt'\n",
        "checkpoint_prefix = os.path.join(checkpoint_dir, \"ckpt\")\n",
        "checkpoint = tf.train.Checkpoint(generator_optimizer=generator_optimizer,\n",
        "                                 discriminator_optimizer=discriminator_optimizer,\n",
        "                                 generator=generator,\n",
        "                                 discriminator=discriminator)\n",
        "\n",
        "gene_loss = tf.keras.metrics.Mean('train_loss', dtype=tf.float32)\n",
        "discr_loss = tf.keras.metrics.Mean('train_loss', dtype=tf.float32)\n",
        "\n",
        "train_log_dir = '/content/drive/My Drive/Colab Notebooks/logs/train/'\n",
        "train_summary_writer = tf.summary.create_file_writer(train_log_dir)"
      ],
      "execution_count": 13,
      "outputs": []
    },
    {
      "cell_type": "code",
      "metadata": {
        "id": "yUeVth__vmIp",
        "colab_type": "code",
        "colab": {}
      },
      "source": [
        "@tf.function\n",
        "def train_step(images):\n",
        "    noise = tf.random.uniform([BATCH_SIZE, noise_dim], seed = 1)\n",
        "    print(tf.shape(images))\n",
        "    print(images.shape)\n",
        "    with tf.GradientTape() as gen_tape, tf.GradientTape() as disc_tape:\n",
        "        generated_images = generator(noise, training=True)\n",
        "\n",
        "        real_output = discriminator(images, training=True)\n",
        "        fake_output = discriminator(generated_images, training=True)\n",
        "\n",
        "        gen_loss = generator_loss(fake_output)\n",
        "        disc_loss = discriminator_loss(real_output, fake_output)\n",
        "\n",
        "        gene_loss(gen_loss)\n",
        "        discr_loss(disc_loss)\n",
        "\n",
        "    gradients_of_generator = gen_tape.gradient(gen_loss, generator.trainable_variables)\n",
        "    gradients_of_discriminator = disc_tape.gradient(disc_loss, discriminator.trainable_variables)\n",
        "\n",
        "    generator_optimizer.apply_gradients(zip(gradients_of_generator, generator.trainable_variables))\n",
        "    discriminator_optimizer.apply_gradients(zip(gradients_of_discriminator, discriminator.trainable_variables))"
      ],
      "execution_count": 14,
      "outputs": []
    },
    {
      "cell_type": "code",
      "metadata": {
        "id": "dyLiqs3c2AcG",
        "colab_type": "code",
        "colab": {}
      },
      "source": [
        "@tf.function\n",
        "def train_step_1d(images):\n",
        "    noise = tf.random.uniform([BATCH_SIZE, noise_dim], seed = 1)\n",
        "    print(tf.shape(images))\n",
        "    print(images.shape)\n",
        "    with tf.GradientTape() as gen_tape, tf.GradientTape() as disc_tape:\n",
        "        generated_images = generator_1d(noise, training=True)\n",
        "\n",
        "        real_output = discriminator_1d(images, training=True)\n",
        "        fake_output = discriminator_1d(generated_images, training=True)\n",
        "\n",
        "        gen_loss = generator_loss(fake_output)\n",
        "        disc_loss = discriminator_loss(real_output, fake_output)\n",
        "\n",
        "        gene_loss(gen_loss)\n",
        "        discr_loss(disc_loss)\n",
        "\n",
        "    gradients_of_generator = gen_tape.gradient(gen_loss, generator_1d.trainable_variables)\n",
        "    gradients_of_discriminator = disc_tape.gradient(disc_loss, discriminator_1d.trainable_variables)\n",
        "\n",
        "    generator_optimizer.apply_gradients(zip(gradients_of_generator, generator_1d.trainable_variables))\n",
        "    discriminator_optimizer.apply_gradients(zip(gradients_of_discriminator, discriminator_1d.trainable_variables))"
      ],
      "execution_count": 15,
      "outputs": []
    },
    {
      "cell_type": "code",
      "metadata": {
        "id": "HICIV7Ai_riN",
        "colab_type": "code",
        "colab": {}
      },
      "source": [
        "g_loss_t = []\n",
        "d_loss_t = []\n",
        "g_loss_v = []\n",
        "d_loss_v = []\n"
      ],
      "execution_count": 16,
      "outputs": []
    },
    {
      "cell_type": "code",
      "metadata": {
        "id": "U9suZR46voSO",
        "colab_type": "code",
        "colab": {}
      },
      "source": [
        "def train(dataset, epochs):\n",
        "    for epoch in range(epochs):\n",
        "        start = time.time()\n",
        "        batch_no = 0\n",
        "        for image_batch in dataset:\n",
        "            train_step(image_batch)\n",
        "            batch_no += 1\n",
        "            if batch_no % 5 == 0:\n",
        "              print(gene_loss.result().numpy(), discr_loss.result().numpy())\n",
        "              g_loss_t.append(gene_loss.result().numpy()) \n",
        "              d_loss_t.append(discr_loss.result().numpy())\n",
        "        \n",
        "\n",
        "        # GIF를 위한 이미지를 바로 생성합니다.\n",
        "        display.clear_output(wait=True)\n",
        "        generate_and_save_images(generator, epoch + 1,  seed)\n",
        "        with train_summary_writer.as_default():\n",
        "            tf.summary.scalar('gen_loss', gene_loss.result(), step=epoch) \n",
        "            tf.summary.scalar('disc_loss', discr_loss.result(), step=epoch)\n",
        "        \n",
        "        # 15 에포크가 지날 때마다 모델을 저장합니다.\n",
        "        if (epoch + 1) % 15 == 0:\n",
        "            checkpoint.save(file_prefix = checkpoint_prefix)\n",
        "    \n",
        "        # print (' 에포크 {} 에서 걸린 시간은 {} 초 입니다'.format(epoch +1, time.time()-start))\n",
        "        print('Time for epoch {} is {} sec'.format(epoch + 1, time.time()-start))\n",
        "    \n",
        "        template = 'Epoch {}, gen_loss: {}, disc_loss: {}'\n",
        "        print(template.format(epoch+1, gene_loss.result(), discr_loss.result()))\n",
        "        \n",
        "\n",
        "        # Reset metrics every epoch\n",
        "        gene_loss.reset_states()\n",
        "        discr_loss.reset_states()\n",
        "    # 마지막 에포크가 끝난 후 생성합니다.\n",
        "    display.clear_output(wait=True)\n",
        "    generate_and_save_images(generator, epochs, seed)\n",
        "    checkpoint.save(file_prefix = checkpoint_prefix)\n",
        "    plt.title('Change in cross-entropy loss during training for MMISEL_GB')\n",
        "    plt.plot(np.arange(len(g_loss_t)),g_loss_t, label = 'generator')\n",
        "    plt.plot(np.arange(len(d_loss_t)),d_loss_t, label = 'discriminator')\n",
        "    plt.legend()\n",
        "    plt.savefig('/content/drive/My Drive/Colab Notebooks/Train_graph_MMISEL_GB.png')\n",
        "    plt.show()\n",
        "\n"
      ],
      "execution_count": 17,
      "outputs": []
    },
    {
      "cell_type": "code",
      "metadata": {
        "id": "LyV5DHRS3Hr0",
        "colab_type": "code",
        "colab": {}
      },
      "source": [
        "def train_1d(dataset, epochs):\n",
        "    for epoch in range(epochs):\n",
        "        start = time.time()\n",
        "        batch_no = 0\n",
        "        for image_batch in dataset:\n",
        "            train_step_1d(image_batch)\n",
        "            batch_no += 1\n",
        "            if batch_no % 5 == 0:\n",
        "              print(gene_loss.result().numpy(), discr_loss.result().numpy())\n",
        "              g_loss_t.append(gene_loss.result().numpy()) \n",
        "              d_loss_t.append(discr_loss.result().numpy())\n",
        "        \n",
        "\n",
        "        # GIF를 위한 이미지를 바로 생성합니다.\n",
        "        display.clear_output(wait=True)\n",
        "        generate_1d_images(generator_1d, epoch + 1)\n",
        "        with train_summary_writer.as_default():\n",
        "            tf.summary.scalar('gen_loss', gene_loss.result(), step=epoch) \n",
        "            tf.summary.scalar('disc_loss', discr_loss.result(), step=epoch)\n",
        "        \n",
        "        # 15 에포크가 지날 때마다 모델을 저장합니다.\n",
        "        if (epoch + 1) % 15 == 0:\n",
        "            checkpoint.save(file_prefix = checkpoint_prefix)\n",
        "    \n",
        "        # print (' 에포크 {} 에서 걸린 시간은 {} 초 입니다'.format(epoch +1, time.time()-start))\n",
        "        print('Time for epoch {} is {} sec'.format(epoch + 1, time.time()-start))\n",
        "    \n",
        "        template = 'Epoch {}, gen_loss: {}, disc_loss: {}'\n",
        "        print(template.format(epoch+1, gene_loss.result(), discr_loss.result()))\n",
        "        \n",
        "\n",
        "        # Reset metrics every epoch\n",
        "        gene_loss.reset_states()\n",
        "        discr_loss.reset_states()\n",
        "    # 마지막 에포크가 끝난 후 생성합니다.\n",
        "    display.clear_output(wait=True)\n",
        "    generate_1d_images(generator_1d, epochs)\n",
        "    checkpoint.save(file_prefix = checkpoint_prefix)\n",
        "    plt.title('Change in cross-entropy loss during training for MMISEL_GB')\n",
        "    plt.plot(np.arange(len(g_loss_t)),g_loss_t, label = 'generator')\n",
        "    plt.plot(np.arange(len(d_loss_t)),d_loss_t, label = 'discriminator')\n",
        "    plt.legend()\n",
        "    plt.savefig('/content/drive/My Drive/Colab Notebooks/Train_graph_MMISEL_GB.png')\n",
        "    plt.show()\n",
        "\n"
      ],
      "execution_count": 18,
      "outputs": []
    },
    {
      "cell_type": "code",
      "metadata": {
        "id": "DuaxPMxkvq8q",
        "colab_type": "code",
        "colab": {}
      },
      "source": [
        "def generate_and_save_images(model, epoch, test_input):\n",
        "# `training`이 False로 맞춰진 것을 주목하세요.\n",
        "# 이렇게 하면 (배치정규화를 포함하여) 모든 층들이 추론 모드로 실행됩니다. \n",
        "    predictions = model(test_input, training=False)\n",
        "\n",
        "    fig = plt.figure(figsize=(4,4))\n",
        "\n",
        "    for i in range(predictions.shape[0]):\n",
        "        plt.subplot(4, 4, i+1)\n",
        "        plt.imshow(predictions[i, :, :, 0] * 127.5 + 127.5, cmap='gray')\n",
        "        plt.axis('off')\n",
        "\n",
        "    plt.savefig('/content/drive/My Drive/Colab Notebooks/images/MMISEL_GB_at_epoch_{:04d}.png'.format(epoch))\n",
        "    plt.show()"
      ],
      "execution_count": 19,
      "outputs": []
    },
    {
      "cell_type": "code",
      "metadata": {
        "id": "z2ZwP9X_2Jjs",
        "colab_type": "code",
        "colab": {}
      },
      "source": [
        "def generate_1d_images(model, epoch):\n",
        "    noise = tf.random.uniform([4, noise_dim], seed = 1)\n",
        "    predictions = model(noise, training=False)\n",
        "\n",
        "    fig = plt.figure()\n",
        "\n",
        "    for i in range(predictions.shape[0]):\n",
        "        plt.subplot(2, 2, i+1)\n",
        "        plt.hist(predictions[i,:,0] * 127.5 + 127.5, bins = 128)\n",
        "        plt.axis('on')\n",
        "    \n",
        "    plt.show()"
      ],
      "execution_count": 20,
      "outputs": []
    },
    {
      "cell_type": "code",
      "metadata": {
        "id": "zQwKPnEMvvi6",
        "colab_type": "code",
        "colab": {
          "base_uri": "https://localhost:8080/",
          "height": 563
        },
        "outputId": "16937206-fb2a-471a-fa17-cc878a881706"
      },
      "source": [
        "%%time\n",
        "train_1d(train_dataset, EPOCHS)"
      ],
      "execution_count": 21,
      "outputs": [
        {
          "output_type": "display_data",
          "data": {
            "image/png": "[encoded data removed]",
            "text/plain": [
              "<Figure size 432x288 with 4 Axes>"
            ]
          },
          "metadata": {
            "tags": [],
            "needs_background": "light"
          }
        },
        {
          "output_type": "display_data",
          "data": {
            "image/png": "[encoded data removed]",
            "text/plain": [
              "<Figure size 432x288 with 1 Axes>"
            ]
          },
          "metadata": {
            "tags": [],
            "needs_background": "light"
          }
        },
        {
          "output_type": "stream",
          "text": [
            "CPU times: user 1min 7s, sys: 7.8 s, total: 1min 15s\n",
            "Wall time: 2min 5s\n"
          ],
          "name": "stdout"
        }
      ]
    },
    {
      "cell_type": "code",
      "metadata": {
        "id": "-yB5wubLCGTB",
        "colab_type": "code",
        "colab": {}
      },
      "source": [
        "def valid(dataset, epochs):\n",
        "    for epoch in range(epochs):\n",
        "        start = time.time()\n",
        "        batch_no = 0\n",
        "        checkpoint.restore(tf.train.latest_checkpoint(checkpoint_dir))\n",
        "        for image_batch in dataset:\n",
        "            valid_step(image_batch)\n",
        "            batch_no += 1\n",
        "            if batch_no % 5 == 0:\n",
        "              print(gene_loss.result().numpy(), discr_loss.result().numpy())\n",
        "              g_loss_v.append(gene_loss.result().numpy()) \n",
        "              d_loss_v.append(discr_loss.result().numpy())\n",
        "\n",
        "\n",
        "        # GIF를 위한 이미지를 바로 생성합니다.\n",
        "        display.clear_output(wait=True)\n",
        "        with train_summary_writer.as_default():\n",
        "            tf.summary.scalar('gen_loss', gene_loss.result(), step=epoch) \n",
        "            tf.summary.scalar('disc_loss', discr_loss.result(), step=epoch)\n",
        "        \n",
        "    \n",
        "        # print (' 에포크 {} 에서 걸린 시간은 {} 초 입니다'.format(epoch +1, time.time()-start))\n",
        "        print('Time for epoch {} is {} sec'.format(epoch + 1, time.time()-start))\n",
        "    \n",
        "        template = 'Epoch {}, gen_loss: {}, disc_loss: {}'\n",
        "        print(template.format(epoch+1, gene_loss.result(), discr_loss.result()))\n",
        "\n",
        "        # Reset metrics every epoch\n",
        "        gene_loss.reset_states()\n",
        "        discr_loss.reset_states()\n",
        "    # 마지막 에포크가 끝난 후 생성합니다.\n",
        "    plt.title('Change in cross-entropy loss during validation for MMISEL_GB')\n",
        "    plt.plot(np.arange(len(g_loss_v)),g_loss_v, label = 'generator')\n",
        "    plt.plot(np.arange(len(d_loss_v)),d_loss_v, label = 'discriminator')\n",
        "    plt.legend()\n",
        "    plt.savefig('/content/drive/My Drive/Colab Notebooks/valid_graph_MMISEL_GB.png')\n",
        "    plt.show()"
      ],
      "execution_count": 22,
      "outputs": []
    },
    {
      "cell_type": "code",
      "metadata": {
        "id": "jHCJyddP_hR8",
        "colab_type": "code",
        "colab": {}
      },
      "source": [
        "def valid_1d(dataset, epochs):\n",
        "    for epoch in range(epochs):\n",
        "        start = time.time()\n",
        "        batch_no = 0\n",
        "        checkpoint.restore(tf.train.latest_checkpoint(checkpoint_dir))\n",
        "        for image_batch in dataset:\n",
        "            valid_step_1d(image_batch)\n",
        "            batch_no += 1\n",
        "            if batch_no % 5 == 0:\n",
        "              print(gene_loss.result().numpy(), discr_loss.result().numpy())\n",
        "              g_loss_v.append(gene_loss.result().numpy()) \n",
        "              d_loss_v.append(discr_loss.result().numpy())\n",
        "\n",
        "\n",
        "        # GIF를 위한 이미지를 바로 생성합니다.\n",
        "        display.clear_output(wait=True)\n",
        "        with train_summary_writer.as_default():\n",
        "            tf.summary.scalar('gen_loss', gene_loss.result(), step=epoch) \n",
        "            tf.summary.scalar('disc_loss', discr_loss.result(), step=epoch)\n",
        "        \n",
        "    \n",
        "        # print (' 에포크 {} 에서 걸린 시간은 {} 초 입니다'.format(epoch +1, time.time()-start))\n",
        "        print('Time for epoch {} is {} sec'.format(epoch + 1, time.time()-start))\n",
        "    \n",
        "        template = 'Epoch {}, gen_loss: {}, disc_loss: {}'\n",
        "        print(template.format(epoch+1, gene_loss.result(), discr_loss.result()))\n",
        "\n",
        "        # Reset metrics every epoch\n",
        "        gene_loss.reset_states()\n",
        "        discr_loss.reset_states()\n",
        "    # 마지막 에포크가 끝난 후 생성합니다.\n",
        "    plt.title('Change in cross-entropy loss during validation for MMISEL_GB')\n",
        "    plt.plot(np.arange(len(g_loss_v)),g_loss_v, label = 'generator')\n",
        "    plt.plot(np.arange(len(d_loss_v)),d_loss_v, label = 'discriminator')\n",
        "    plt.legend()\n",
        "    plt.savefig('/content/drive/My Drive/Colab Notebooks/valid_graph_MMISEL_GB.png')\n",
        "    plt.show()"
      ],
      "execution_count": 23,
      "outputs": []
    },
    {
      "cell_type": "code",
      "metadata": {
        "id": "R0-MV8qZFu2c",
        "colab_type": "code",
        "colab": {}
      },
      "source": [
        "v = np.load('/content/drive/My Drive/Colab Notebooks/MMISEL_GB_valid.npy')\n",
        "valid_images = np.array([])"
      ],
      "execution_count": 24,
      "outputs": []
    },
    {
      "cell_type": "code",
      "metadata": {
        "id": "6mjWiU0r_pRW",
        "colab_type": "code",
        "colab": {
          "base_uri": "https://localhost:8080/",
          "height": 34
        },
        "outputId": "fd1240fb-6907-46e9-ac04-f297dcde6474"
      },
      "source": [
        "for i in range(v.shape[0]):\n",
        "    dist = v[i,:,:]\n",
        "    dist = dist.flatten()\n",
        "    if valid_images.size == 0:\n",
        "      valid_images = dist\n",
        "    else:\n",
        "      valid_images = np.vstack((valid_images,dist))\n",
        "print(valid_images.shape)"
      ],
      "execution_count": 25,
      "outputs": [
        {
          "output_type": "stream",
          "text": [
            "(5000, 784)\n"
          ],
          "name": "stdout"
        }
      ]
    },
    {
      "cell_type": "code",
      "metadata": {
        "id": "800OHjnN_olY",
        "colab_type": "code",
        "colab": {}
      },
      "source": [
        "valid_images = valid_images.reshape(valid_images.shape[0], 784,1).astype('float32')\n",
        "valid_images = (valid_images - 127.5) / 127.5 # 이미지를 [-1, 1]로 정규화합니다.\n",
        "BUFFER_SIZE = len(valid_images)\n",
        "BATCH_SIZE = 500\n",
        "\n",
        "# 데이터 배치를 만들고 섞습니다.\n",
        "valid_dataset = tf.data.Dataset.from_tensor_slices(valid_images).shuffle(BUFFER_SIZE).batch(BATCH_SIZE)\n",
        "\n",
        "EPOCHS = 30\n",
        "noise_dim = 100"
      ],
      "execution_count": 26,
      "outputs": []
    },
    {
      "cell_type": "code",
      "metadata": {
        "id": "hVQAD0eRBw-4",
        "colab_type": "code",
        "colab": {}
      },
      "source": [
        "@tf.function\n",
        "def valid_step(images):\n",
        "    noise = tf.random.uniform([BATCH_SIZE, noise_dim], seed = 1)\n",
        "\n",
        "    with tf.GradientTape() as gen_tape, tf.GradientTape() as disc_tape:\n",
        "        generated_images = generator(noise, training=False)\n",
        "        real_output = discriminator(images, training=False)\n",
        "        fake_output = discriminator(generated_images, training=False)\n",
        "\n",
        "        gen_loss = generator_loss(fake_output)\n",
        "        disc_loss = discriminator_loss(real_output, fake_output)\n",
        "\n",
        "        gene_loss(gen_loss)\n",
        "        discr_loss(disc_loss)\n"
      ],
      "execution_count": 27,
      "outputs": []
    },
    {
      "cell_type": "code",
      "metadata": {
        "id": "9rEkza8o_9eZ",
        "colab_type": "code",
        "colab": {}
      },
      "source": [
        "@tf.function\n",
        "def valid_step_1d(images):\n",
        "    noise = tf.random.uniform([BATCH_SIZE, noise_dim], seed = 1)\n",
        "\n",
        "    with tf.GradientTape() as gen_tape, tf.GradientTape() as disc_tape:\n",
        "        generated_images = generator_1d(noise, training=False)\n",
        "        real_output = discriminator_1d(images, training=False)\n",
        "        fake_output = discriminator_1d(generated_images, training=False)\n",
        "\n",
        "        gen_loss = generator_loss(fake_output)\n",
        "        disc_loss = discriminator_loss(real_output, fake_output)\n",
        "\n",
        "        gene_loss(gen_loss)\n",
        "        discr_loss(disc_loss)\n"
      ],
      "execution_count": 28,
      "outputs": []
    },
    {
      "cell_type": "code",
      "metadata": {
        "id": "3z1pZN_yFioc",
        "colab_type": "code",
        "colab": {
          "base_uri": "https://localhost:8080/",
          "height": 349
        },
        "outputId": "af2436a0-7805-4672-f224-950a5a8ce2b7"
      },
      "source": [
        "%%time\n",
        "valid_1d(valid_dataset, EPOCHS)"
      ],
      "execution_count": 29,
      "outputs": [
        {
          "output_type": "stream",
          "text": [
            "Time for epoch 30 is 0.6430611610412598 sec\n",
            "Epoch 30, gen_loss: 0.7518936395645142, disc_loss: 1.91372811794281\n"
          ],
          "name": "stdout"
        },
        {
          "output_type": "display_data",
          "data": {
            "image/png": "[encoded data removed]",
            "text/plain": [
              "<Figure size 432x288 with 1 Axes>"
            ]
          },
          "metadata": {
            "tags": [],
            "needs_background": "light"
          }
        },
        {
          "output_type": "stream",
          "text": [
            "CPU times: user 7.05 s, sys: 2.39 s, total: 9.43 s\n",
            "Wall time: 20.9 s\n"
          ],
          "name": "stdout"
        }
      ]
    },
    {
      "cell_type": "code",
      "metadata": {
        "id": "5u-oyejRUTWT",
        "colab_type": "code",
        "colab": {}
      },
      "source": [
        "loss = tf.keras.metrics.Mean('train_loss', dtype=tf.float32)\n",
        "ms = []"
      ],
      "execution_count": 30,
      "outputs": []
    },
    {
      "cell_type": "code",
      "metadata": {
        "id": "x8TgHMmsgY5T",
        "colab_type": "code",
        "colab": {}
      },
      "source": [
        "@tf.function\n",
        "def test_step(images):\n",
        "    noise = tf.random.uniform([BATCH_SIZE, noise_dim], seed = 1)\n",
        "    generated_images = generator(noise, training=False)\n",
        "    print(images, generated_images)\n",
        "    mse = tf.keras.losses.MSE(generated_images, images)\n",
        "    loss(mse)\n",
        "\n"
      ],
      "execution_count": 31,
      "outputs": []
    },
    {
      "cell_type": "code",
      "metadata": {
        "id": "jbpQi9kgB6ff",
        "colab_type": "code",
        "colab": {}
      },
      "source": [
        "@tf.function\n",
        "def test_step_1d(images):\n",
        "    noise = tf.random.uniform([BATCH_SIZE, noise_dim], seed = 1)\n",
        "    generated_images = generator_1d(noise, training=False)\n",
        "    print(images, generated_images)\n",
        "    mse = tf.keras.losses.MSE(generated_images, images)\n",
        "    loss(mse)"
      ],
      "execution_count": 32,
      "outputs": []
    },
    {
      "cell_type": "code",
      "metadata": {
        "id": "0g3lHIUSgniA",
        "colab_type": "code",
        "colab": {}
      },
      "source": [
        "def test(dataset, epochs):\n",
        "    sum_mse = 0\n",
        "    for epoch in range(epochs):\n",
        "        start = time.time()\n",
        "        batch_no = 0\n",
        "        checkpoint.restore(tf.train.latest_checkpoint(checkpoint_dir))\n",
        "        i=0\n",
        "        for image_batch in dataset:\n",
        "            test_step(image_batch)\n",
        "            # print(loss.result().numpy())\n",
        "            ms.append(loss.result().numpy())\n",
        "        \n",
        "        # print (' 에포크 {} 에서 걸린 시간은 {} 초 입니다'.format(epoch +1, time.time()-start))\n",
        "        print('Time for epoch {} is {} sec'.format(epoch + 1, time.time()-start))\n",
        "    \n",
        "\n",
        "\n",
        "    # 마지막 에포크가 끝난 후 생성합니다.\n",
        "    for i in range(len(ms)):\n",
        "      sum_mse += ms[i]\n",
        "    print(sum_mse/len(ms))\n"
      ],
      "execution_count": 33,
      "outputs": []
    },
    {
      "cell_type": "code",
      "metadata": {
        "id": "u6ObRO5dB9wb",
        "colab_type": "code",
        "colab": {}
      },
      "source": [
        "def test_1d(dataset, epochs):\n",
        "    sum_mse = 0\n",
        "    for epoch in range(epochs):\n",
        "        start = time.time()\n",
        "        batch_no = 0\n",
        "        checkpoint.restore(tf.train.latest_checkpoint(checkpoint_dir))\n",
        "        i=0\n",
        "        for image_batch in dataset:\n",
        "            test_step_1d(image_batch)\n",
        "            # print(loss.result().numpy())\n",
        "            ms.append(loss.result().numpy())\n",
        "        \n",
        "        # print (' 에포크 {} 에서 걸린 시간은 {} 초 입니다'.format(epoch +1, time.time()-start))\n",
        "        print('Time for epoch {} is {} sec'.format(epoch + 1, time.time()-start))\n",
        "    \n",
        "\n",
        "\n",
        "    # 마지막 에포크가 끝난 후 생성합니다.\n",
        "    for i in range(len(ms)):\n",
        "      sum_mse += ms[i]\n",
        "    print(sum_mse/len(ms))\n"
      ],
      "execution_count": 34,
      "outputs": []
    },
    {
      "cell_type": "code",
      "metadata": {
        "id": "8I-iFPcbaUqc",
        "colab_type": "code",
        "colab": {}
      },
      "source": [
        "t = np.load('/content/drive/My Drive/Colab Notebooks/MMISEL_GB_test.npy')\n",
        "test_images = np.array([])"
      ],
      "execution_count": 35,
      "outputs": []
    },
    {
      "cell_type": "code",
      "metadata": {
        "id": "C-oXckTRCAxK",
        "colab_type": "code",
        "colab": {
          "base_uri": "https://localhost:8080/",
          "height": 34
        },
        "outputId": "90cfff88-5ef5-40f5-aa57-9e81ee258163"
      },
      "source": [
        "for i in range(t.shape[0]):\n",
        "    dist = t[i,:,:]\n",
        "    dist = dist.flatten()\n",
        "    if test_images.size == 0:\n",
        "      test_images = dist\n",
        "    else:\n",
        "      test_images = np.vstack((test_images,dist))\n",
        "print(test_images.shape)"
      ],
      "execution_count": 36,
      "outputs": [
        {
          "output_type": "stream",
          "text": [
            "(500, 784)\n"
          ],
          "name": "stdout"
        }
      ]
    },
    {
      "cell_type": "code",
      "metadata": {
        "id": "qOMIMbNwCCCg",
        "colab_type": "code",
        "colab": {}
      },
      "source": [
        "test_images = test_images.reshape(test_images.shape[0], 784, 1).astype('float32')\n",
        "test_images = (test_images - 127.5) / 127.5 # 이미지를 [-1, 1]로 정규화합니다.\n",
        "BUFFER_SIZE = len(test_images)\n",
        "BATCH_SIZE = 50\n",
        "\n",
        "# 데이터 배치를 만들고 섞습니다.\n",
        "test_dataset = tf.data.Dataset.from_tensor_slices(test_images).shuffle(BUFFER_SIZE).batch(BATCH_SIZE)\n",
        "EPOCHS = 10\n",
        "noise_dim = 100\n",
        "num_examples_to_generate = 16"
      ],
      "execution_count": 37,
      "outputs": []
    },
    {
      "cell_type": "code",
      "metadata": {
        "id": "eX9vmy2ig2qk",
        "colab_type": "code",
        "colab": {
          "base_uri": "https://localhost:8080/",
          "height": 275
        },
        "outputId": "381d7007-fc8d-4b7a-a1ca-d0a44b13fdff"
      },
      "source": [
        "%%time\n",
        "test_1d(test_dataset,EPOCHS)"
      ],
      "execution_count": 38,
      "outputs": [
        {
          "output_type": "stream",
          "text": [
            "Tensor(\"images:0\", shape=(50, 784, 1), dtype=float32) Tensor(\"sequential_2/conv1d_2/Tanh:0\", shape=(50, 784, 1), dtype=float32)\n",
            "Time for epoch 1 is 0.3193502426147461 sec\n",
            "Time for epoch 2 is 0.10619282722473145 sec\n",
            "Time for epoch 3 is 0.10801339149475098 sec\n",
            "Time for epoch 4 is 0.10300254821777344 sec\n",
            "Time for epoch 5 is 0.13808822631835938 sec\n",
            "Time for epoch 6 is 0.11311459541320801 sec\n",
            "Time for epoch 7 is 0.10150933265686035 sec\n",
            "Time for epoch 8 is 0.11421036720275879 sec\n",
            "Time for epoch 9 is 0.10715508460998535 sec\n",
            "Time for epoch 10 is 0.11718988418579102 sec\n",
            "0.3253811326622963\n",
            "CPU times: user 942 ms, sys: 263 ms, total: 1.2 s\n",
            "Wall time: 1.33 s\n"
          ],
          "name": "stdout"
        }
      ]
    }
  ]
}